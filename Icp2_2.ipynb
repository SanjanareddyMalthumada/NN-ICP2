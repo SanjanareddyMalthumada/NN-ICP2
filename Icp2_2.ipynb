{
  "nbformat": 4,
  "nbformat_minor": 0,
  "metadata": {
    "colab": {
      "provenance": []
    },
    "kernelspec": {
      "name": "python3",
      "display_name": "Python 3"
    },
    "language_info": {
      "name": "python"
    }
  },
  "cells": [
    {
      "cell_type": "code",
      "source": [
        "def count_words_in_lines():\n",
        "    word_count = {}\n",
        "\n",
        "    while True:\n",
        "       line = input(\" \")\n",
        "       if line == \"\":\n",
        "           break\n",
        "\n",
        "# Split the line into words\n",
        "    words = line.split ()\n",
        "# Count each word\n",
        "    for i in words:\n",
        "       if i in word_count:\n",
        "            word_count [i] += 1\n",
        "       else:\n",
        "            word_count [i] = 1\n",
        "# Print the word counts\n",
        "            print (\"\\nword counts:\")\n",
        "            for word, count in word_count.items():\n",
        "                print(f\"{word}: {count}\")\n",
        "\n",
        "count_words_in_lines()"
      ],
      "metadata": {
        "colab": {
          "base_uri": "https://localhost:8080/"
        },
        "id": "56_aE-kfVxEK",
        "outputId": "99cdcaf2-13a9-4800-89ee-283120a4e1a0"
      },
      "execution_count": 53,
      "outputs": [
        {
          "name": "stdout",
          "output_type": "stream",
          "text": [
            " hello sanjana\n",
            " yes sanjana\n",
            " \n"
          ]
        }
      ]
    }
  ]
}