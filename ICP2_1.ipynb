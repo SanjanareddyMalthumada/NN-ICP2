{
  "nbformat": 4,
  "nbformat_minor": 0,
  "metadata": {
    "colab": {
      "provenance": []
    },
    "kernelspec": {
      "name": "python3",
      "display_name": "Python 3"
    },
    "language_info": {
      "name": "python"
    }
  },
  "cells": [
    {
      "cell_type": "code",
      "execution_count": null,
      "metadata": {
        "colab": {
          "base_uri": "https://localhost:8080/"
        },
        "id": "-GQdeRx3udC2",
        "outputId": "6e90344c-3d3a-41db-b5a0-83ac585ffab5"
      },
      "outputs": [
        {
          "output_type": "stream",
          "name": "stdout",
          "text": [
            "Enter your first name: Malthumada\n",
            "Enter your last name: sanjana reddy\n",
            "Full Name: Malthumada sanjana reddy\n",
            "Alternate Characters in Full Name: Mlhmd ajn ed\n"
          ]
        }
      ],
      "source": [
        "def fullname(first_name, last_name):\n",
        "    full_name = first_name + \" \" + last_name\n",
        "    return full_name\n",
        "def string_alternative(full_name):\n",
        "    alternate_chars = \"\"\n",
        "    for i in range(0, len(full_name), 2):\n",
        "        alternate_chars += full_name[i]\n",
        "    return alternate_chars\n",
        "\n",
        "def main():\n",
        "    first_name = input(\"Enter your first name: \")\n",
        "    last_name = input(\"Enter your last name: \")\n",
        "    full_name = fullname(first_name, last_name)\n",
        "    print(\"Full Name:\", full_name)\n",
        "    alternate_chars = string_alternative(full_name)\n",
        "    print(\"Alternate Characters in Full Name:\", alternate_chars)\n",
        "\n",
        "if __name__ == \"__main__\":\n",
        "    main()\n"
      ]
    }
  ]
}