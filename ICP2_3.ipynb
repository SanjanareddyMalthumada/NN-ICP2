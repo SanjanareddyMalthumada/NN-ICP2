{
  "nbformat": 4,
  "nbformat_minor": 0,
  "metadata": {
    "colab": {
      "provenance": []
    },
    "kernelspec": {
      "name": "python3",
      "display_name": "Python 3"
    },
    "language_info": {
      "name": "python"
    }
  },
  "cells": [
    {
      "cell_type": "code",
      "source": [
        "L= input().split()\n",
        "res=[]\n",
        "for i in range(0,len(L)):\n",
        " res.append (float(L[i])*2.54)\n",
        "\n",
        "print (res)"
      ],
      "metadata": {
        "colab": {
          "base_uri": "https://localhost:8080/"
        },
        "id": "7FhC_ffORGOb",
        "outputId": "4913438f-dc7d-477f-93ff-ac5bd4a126de"
      },
      "execution_count": 11,
      "outputs": [
        {
          "output_type": "stream",
          "name": "stdout",
          "text": [
            "120 125 130 135 140\n",
            "[304.8, 317.5, 330.2, 342.9, 355.6]\n"
          ]
        }
      ]
    }
  ]
}